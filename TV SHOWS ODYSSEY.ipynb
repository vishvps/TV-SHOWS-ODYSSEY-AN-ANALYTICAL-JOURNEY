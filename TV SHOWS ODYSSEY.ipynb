{
 "cells": [
  {
   "cell_type": "markdown",
   "id": "b674db1b-abcb-4102-be84-491df65b1888",
   "metadata": {},
   "source": [
    "# TV SHOWS ODYSSEY: AN ANALYTICAL JOURNEY (Python and MySQL)"
   ]
  },
  {
   "cell_type": "markdown",
   "id": "0489ca40-903e-422f-a178-b2153c42d753",
   "metadata": {},
   "source": [
    "**SUMMARY**"
   ]
  },
  {
   "cell_type": "markdown",
   "id": "e0b0133e-cfc3-417d-942d-58c91779ad01",
   "metadata": {},
   "source": [
    "In my TV Shows project, I conducted a comprehensive analysis of a 22-table dataset to ensure data consistency and integrity. Initially, I verified that there were no null values in any columns, applying exploratory data analysis (EDA) techniques to treat any issues found, and corrected data types using MySQL Workbench. Following this data preparation, I executed a series of complex queries using Python and MySQL connectivity, incorporating various functions such as joins, aggregate functions, subqueries, window functions, stored procedures, and common table expressions (CTEs). My queries encompassed a wide range of tasks, including retrieving lists of TV shows along with their release years and genres, counting total shows, and identifying those released after 2015. I analyzed genres to find the most common ones and the top five based on show count, as well as locating the highest-rated shows and those with ratings above 8. Additionally, I explored the most frequent creators, shows produced by 'ABC Productions,' and the total number of episodes per show. I also identified shows with more than five seasons, provided detailed episode lists including air dates and ratings, and retrieved language data. Finally, I assessed shows that were canceled or ended after December 31, 2020, and implemented stored procedures to retrieve shows by genre while ranking the top-rated shows and identifying those with the most seasons. This extensive analysis delivered valuable insights into genre trends, show ratings, and production details within the dataset."
   ]
  },
  {
   "cell_type": "code",
   "execution_count": null,
   "id": "c8b255b4-cd7f-43f5-b6bc-2f22c7b979dc",
   "metadata": {},
   "outputs": [],
   "source": [
    "#importing libraries\n",
    "import pandas as pd\n",
    "import numpy as np"
   ]
  },
  {
   "cell_type": "code",
   "execution_count": null,
   "id": "d777d478-b052-47d5-a326-170f284b71cc",
   "metadata": {},
   "outputs": [],
   "source": [
    "air_dates=pd.read_csv(\"air_dates.csv\")\n",
    "air_dates"
   ]
  },
  {
   "cell_type": "code",
   "execution_count": null,
   "id": "53c98e96-5d6e-41a1-81f6-a0eee5e227d7",
   "metadata": {},
   "outputs": [],
   "source": [
    "air_dates.info()"
   ]
  },
  {
   "cell_type": "code",
   "execution_count": null,
   "id": "bf9e373c-0112-4fec-904e-5b43d3f7751f",
   "metadata": {},
   "outputs": [],
   "source": [
    "air_dates.isnull().sum()"
   ]
  },
  {
   "cell_type": "code",
   "execution_count": null,
   "id": "ca4ffd51-905f-4f5d-9c61-6b30eab9d718",
   "metadata": {},
   "outputs": [],
   "source": [
    "len(air_dates['date'].dropna()) / len(air_dates) * 100"
   ]
  },
  {
   "cell_type": "code",
   "execution_count": null,
   "id": "7276ccaa-bdbe-4d03-8015-fc31b880f1ee",
   "metadata": {},
   "outputs": [],
   "source": [
    "air_dates.isnull().sum()"
   ]
  },
  {
   "cell_type": "code",
   "execution_count": null,
   "id": "88e03520-b756-4a76-b610-3dc83ac99020",
   "metadata": {},
   "outputs": [],
   "source": [
    "air_dates = air_dates.dropna()"
   ]
  },
  {
   "cell_type": "code",
   "execution_count": null,
   "id": "a3315aae-ea5c-48ab-97bc-06c7bbb105ec",
   "metadata": {},
   "outputs": [],
   "source": [
    "air_dates.shape"
   ]
  },
  {
   "cell_type": "code",
   "execution_count": null,
   "id": "c3b5f28c-5cef-4a64-a519-c00be9281b57",
   "metadata": {},
   "outputs": [],
   "source": [
    "air_dates.isnull().sum()"
   ]
  },
  {
   "cell_type": "code",
   "execution_count": null,
   "id": "4aa54043-dd62-4b88-82d5-aac20c0391f6",
   "metadata": {},
   "outputs": [],
   "source": [
    "air_dates.to_csv('air_dates_final.csv')"
   ]
  },
  {
   "cell_type": "code",
   "execution_count": null,
   "id": "f7e1a150-3177-4bbf-a8be-288288611e46",
   "metadata": {},
   "outputs": [],
   "source": [
    "created_by=pd.read_csv(\"created_by.csv\")\n",
    "created_by"
   ]
  },
  {
   "cell_type": "code",
   "execution_count": null,
   "id": "e41e420a-a2a0-488a-9744-cc5af7cdf8a1",
   "metadata": {},
   "outputs": [],
   "source": [
    "created_by.info()"
   ]
  },
  {
   "cell_type": "code",
   "execution_count": null,
   "id": "7238ab23-6bbc-4f49-bf63-38b9dfd6fd6b",
   "metadata": {},
   "outputs": [],
   "source": [
    "created_by.isnull().sum()"
   ]
  },
  {
   "cell_type": "code",
   "execution_count": null,
   "id": "6b6470a3-57b2-43b5-b4bd-43de42b77622",
   "metadata": {},
   "outputs": [],
   "source": [
    "created_by_types=pd.read_csv(\"created_by_types.csv\")\n",
    "created_by_types"
   ]
  },
  {
   "cell_type": "code",
   "execution_count": null,
   "id": "50ad37e6-ec65-405b-8e36-8132df604510",
   "metadata": {},
   "outputs": [],
   "source": [
    "created_by_types.info()"
   ]
  },
  {
   "cell_type": "code",
   "execution_count": null,
   "id": "2094606f-2582-43fa-933e-b8c9f47b1cb1",
   "metadata": {},
   "outputs": [],
   "source": [
    "created_by_types.isnull().sum()"
   ]
  },
  {
   "cell_type": "code",
   "execution_count": null,
   "id": "e31e65e0-c433-4e82-945c-00a6817e668c",
   "metadata": {},
   "outputs": [],
   "source": [
    "genre_types=pd.read_csv(\"genre_types.csv\")\n",
    "genre_types"
   ]
  },
  {
   "cell_type": "code",
   "execution_count": null,
   "id": "eec651ec-d3f7-45af-b804-c6c8f645113a",
   "metadata": {},
   "outputs": [],
   "source": [
    "genre_types.info()"
   ]
  },
  {
   "cell_type": "code",
   "execution_count": null,
   "id": "8d6ef67b-2d45-418e-b5f5-5dec93395cd4",
   "metadata": {},
   "outputs": [],
   "source": [
    "genre_types.isnull().sum()"
   ]
  },
  {
   "cell_type": "code",
   "execution_count": null,
   "id": "4698eedc-b653-4983-a04f-ffcee82442f4",
   "metadata": {},
   "outputs": [],
   "source": [
    "genres=pd.read_csv(\"genres.csv\")\n",
    "genres"
   ]
  },
  {
   "cell_type": "code",
   "execution_count": null,
   "id": "bfeb1e50-ed1b-4da1-b319-208f061bf65a",
   "metadata": {},
   "outputs": [],
   "source": [
    "genres.info()"
   ]
  },
  {
   "cell_type": "code",
   "execution_count": null,
   "id": "ef51d205-1a50-4fdb-902c-2ce5a69dfd4a",
   "metadata": {},
   "outputs": [],
   "source": [
    "genres.isnull().sum()"
   ]
  },
  {
   "cell_type": "code",
   "execution_count": null,
   "id": "6ade5c54-cd59-4be7-bf29-29e9143352c8",
   "metadata": {},
   "outputs": [],
   "source": [
    "language_types=pd.read_csv(\"language_types.csv\")\n",
    "language_types"
   ]
  },
  {
   "cell_type": "code",
   "execution_count": null,
   "id": "a38bb7af-8bca-4983-a944-b364c52085c7",
   "metadata": {},
   "outputs": [],
   "source": [
    "language_types.info()"
   ]
  },
  {
   "cell_type": "code",
   "execution_count": null,
   "id": "bf5f4666-3865-4d44-b1bb-16f09753b0d7",
   "metadata": {},
   "outputs": [],
   "source": [
    "language_types.isnull().sum()"
   ]
  },
  {
   "cell_type": "code",
   "execution_count": null,
   "id": "810ea223-b556-4334-ab25-3265e2c2de89",
   "metadata": {},
   "outputs": [],
   "source": [
    "languages=pd.read_csv(\"languages.csv\")\n",
    "languages"
   ]
  },
  {
   "cell_type": "code",
   "execution_count": null,
   "id": "60434388-63d2-460d-86a2-827eda8c0ddc",
   "metadata": {},
   "outputs": [],
   "source": [
    "languages.info()"
   ]
  },
  {
   "cell_type": "code",
   "execution_count": null,
   "id": "57c93dbc-4040-4fcc-a4e3-ecba2af06d50",
   "metadata": {},
   "outputs": [],
   "source": [
    "languages.isnull().sum()"
   ]
  },
  {
   "cell_type": "code",
   "execution_count": null,
   "id": "ddeb9889-d4d4-44f3-bf57-9e6dc1f0b54e",
   "metadata": {},
   "outputs": [],
   "source": [
    "link_types=pd.read_csv(\"link_types.csv\")\n",
    "link_types"
   ]
  },
  {
   "cell_type": "code",
   "execution_count": null,
   "id": "2675c0b7-c4ab-4eca-827a-932821770dc2",
   "metadata": {},
   "outputs": [],
   "source": [
    "link_types.info()"
   ]
  },
  {
   "cell_type": "code",
   "execution_count": null,
   "id": "f39f4553-8ea4-4a0a-ae13-2267e8699d02",
   "metadata": {},
   "outputs": [],
   "source": [
    "links=pd.read_csv(\"links.csv\")\n",
    "links"
   ]
  },
  {
   "cell_type": "code",
   "execution_count": null,
   "id": "e1e40076-783b-422e-b167-6562e0a03f97",
   "metadata": {},
   "outputs": [],
   "source": [
    "links.info()"
   ]
  },
  {
   "cell_type": "code",
   "execution_count": null,
   "id": "93685b5e-73b7-404b-b38c-a1a95d5c2e6d",
   "metadata": {},
   "outputs": [],
   "source": [
    "links.isnull().sum()"
   ]
  },
  {
   "cell_type": "code",
   "execution_count": null,
   "id": "264ae540-c140-4a2e-a3ff-7f5d8971f957",
   "metadata": {},
   "outputs": [],
   "source": [
    "network_types=pd.read_csv(\"network_types.csv\")\n",
    "network_types"
   ]
  },
  {
   "cell_type": "code",
   "execution_count": null,
   "id": "0c943d38-e6ad-4bee-9847-f6c0f9118104",
   "metadata": {},
   "outputs": [],
   "source": [
    "network_types.info()"
   ]
  },
  {
   "cell_type": "code",
   "execution_count": null,
   "id": "602a00f1-5afe-4ee7-974c-3931646f0254",
   "metadata": {},
   "outputs": [],
   "source": [
    "network_types.isnull().sum()"
   ]
  },
  {
   "cell_type": "code",
   "execution_count": null,
   "id": "e1129510-f0f7-4a9d-9006-919e04616aee",
   "metadata": {},
   "outputs": [],
   "source": [
    "networks=pd.read_csv(\"networks.csv\")\n",
    "networks"
   ]
  },
  {
   "cell_type": "code",
   "execution_count": null,
   "id": "b9430299-7099-4e11-89df-20ec81da1b49",
   "metadata": {},
   "outputs": [],
   "source": [
    "networks.info()"
   ]
  },
  {
   "cell_type": "code",
   "execution_count": null,
   "id": "a7b03acd-dd14-4525-9961-2bd32a53dfcf",
   "metadata": {},
   "outputs": [],
   "source": [
    "networks.isnull().sum()"
   ]
  },
  {
   "cell_type": "code",
   "execution_count": null,
   "id": "fcc604c4-61ab-40d5-a526-afb44f4a344b",
   "metadata": {},
   "outputs": [],
   "source": [
    "origin_country_types=pd.read_csv(\"origin_country_types.csv\")\n",
    "origin_country_types"
   ]
  },
  {
   "cell_type": "code",
   "execution_count": null,
   "id": "a25f6e79-a468-424a-bd0b-6c6b145b0233",
   "metadata": {},
   "outputs": [],
   "source": [
    "origin_country_types.info()"
   ]
  },
  {
   "cell_type": "code",
   "execution_count": null,
   "id": "0d47efe6-16f9-4a45-a0c3-1c5ac75e1c90",
   "metadata": {},
   "outputs": [],
   "source": [
    "origin_country_types.isnull().sum()"
   ]
  },
  {
   "cell_type": "code",
   "execution_count": null,
   "id": "c241ce12-39d0-42fe-9379-f2aeaba8fc4d",
   "metadata": {},
   "outputs": [],
   "source": [
    "production_companies=pd.read_csv(\"production_companies.csv\")\n",
    "production_companies"
   ]
  },
  {
   "cell_type": "code",
   "execution_count": null,
   "id": "21b4f358-13f1-4bf6-a510-6b95543b3157",
   "metadata": {},
   "outputs": [],
   "source": [
    "production_companies.info()"
   ]
  },
  {
   "cell_type": "code",
   "execution_count": null,
   "id": "17098afc-446b-4861-b4e4-57b47097532d",
   "metadata": {},
   "outputs": [],
   "source": [
    "production_companies.isnull().sum()"
   ]
  },
  {
   "cell_type": "code",
   "execution_count": null,
   "id": "d80312be-985e-4ba4-be04-1c92f86a8829",
   "metadata": {},
   "outputs": [],
   "source": [
    "production_company_types=pd.read_csv(\"production_company_types.csv\")\n",
    "production_company_types"
   ]
  },
  {
   "cell_type": "code",
   "execution_count": null,
   "id": "ae677532-8a7b-49ba-9b2c-bab27473cfb8",
   "metadata": {},
   "outputs": [],
   "source": [
    "production_company_types.info()"
   ]
  },
  {
   "cell_type": "code",
   "execution_count": null,
   "id": "4a588e22-0084-4f22-931d-f3f8d44d3c6b",
   "metadata": {},
   "outputs": [],
   "source": [
    "production_company_types.isnull().sum()"
   ]
  },
  {
   "cell_type": "code",
   "execution_count": null,
   "id": "2b212b2f-a1ac-40c2-8171-8a80f629b9e0",
   "metadata": {},
   "outputs": [],
   "source": [
    "production_countries=pd.read_csv(\"production_countries.csv\")\n",
    "production_countries"
   ]
  },
  {
   "cell_type": "code",
   "execution_count": null,
   "id": "e54f7589-8989-49cd-9acf-836c889e462b",
   "metadata": {},
   "outputs": [],
   "source": [
    "production_countries.info()"
   ]
  },
  {
   "cell_type": "code",
   "execution_count": null,
   "id": "0037ae71-afaf-43f4-8b3e-2b8e4de1cecf",
   "metadata": {},
   "outputs": [],
   "source": [
    "production_countries.isnull().sum()"
   ]
  },
  {
   "cell_type": "code",
   "execution_count": null,
   "id": "04855146-4f74-4d47-b623-f235768e0a09",
   "metadata": {},
   "outputs": [],
   "source": [
    "production_country_types=pd.read_csv(\"production_country_types.csv\")\n",
    "production_country_types"
   ]
  },
  {
   "cell_type": "code",
   "execution_count": null,
   "id": "300653d0-f9ff-46d3-a14b-89b83921cc12",
   "metadata": {},
   "outputs": [],
   "source": [
    "production_country_types.info()"
   ]
  },
  {
   "cell_type": "code",
   "execution_count": null,
   "id": "78afccb1-b53e-4ccd-b18a-8a2c7d5b7af6",
   "metadata": {},
   "outputs": [],
   "source": [
    "production_country_types.isnull().sum()"
   ]
  },
  {
   "cell_type": "code",
   "execution_count": null,
   "id": "f47b7150-a868-48b6-8282-13f716acacc0",
   "metadata": {},
   "outputs": [],
   "source": [
    "show_votes=pd.read_csv(\"show_votes.csv\")\n",
    "show_votes"
   ]
  },
  {
   "cell_type": "code",
   "execution_count": null,
   "id": "90f8423e-4554-449e-af54-8c6711a5f336",
   "metadata": {},
   "outputs": [],
   "source": [
    "show_votes.info()"
   ]
  },
  {
   "cell_type": "code",
   "execution_count": null,
   "id": "ed769d17-6cd3-4ea6-bd6a-4841afa4fdc2",
   "metadata": {},
   "outputs": [],
   "source": [
    "show_votes.isnull().sum()"
   ]
  },
  {
   "cell_type": "code",
   "execution_count": null,
   "id": "0e70fa98-a784-4e78-b051-b9702997c4ee",
   "metadata": {},
   "outputs": [],
   "source": [
    "shows=pd.read_csv(\"shows.csv\")\n",
    "shows"
   ]
  },
  {
   "cell_type": "code",
   "execution_count": null,
   "id": "6ddfb192-6d75-48f0-9956-9f03c4d42ec0",
   "metadata": {},
   "outputs": [],
   "source": [
    "shows.info()"
   ]
  },
  {
   "cell_type": "code",
   "execution_count": null,
   "id": "0f98cc5c-cd61-449b-9925-e81156b7f4ec",
   "metadata": {},
   "outputs": [],
   "source": [
    "shows.isnull().sum()"
   ]
  },
  {
   "cell_type": "code",
   "execution_count": null,
   "id": "a1689a36-e0eb-4df9-943e-e3373910c5bc",
   "metadata": {},
   "outputs": [],
   "source": [
    "shows.drop('overview' , axis=1 , inplace=True)\n",
    "shows.drop('tagline' , axis=1 , inplace=True)"
   ]
  },
  {
   "cell_type": "code",
   "execution_count": null,
   "id": "f6139e83-4125-495c-b985-4152d4d70211",
   "metadata": {},
   "outputs": [],
   "source": [
    "shows.isnull().sum()"
   ]
  },
  {
   "cell_type": "code",
   "execution_count": null,
   "id": "b3e7a2a9-3bf0-4b80-8739-8111954e789c",
   "metadata": {},
   "outputs": [],
   "source": [
    "shows"
   ]
  },
  {
   "cell_type": "code",
   "execution_count": null,
   "id": "b1089a28-712d-45f2-9e35-a0d8b53c8677",
   "metadata": {},
   "outputs": [],
   "source": [
    "shows.to_csv(\"shows_final.csv\")"
   ]
  },
  {
   "cell_type": "code",
   "execution_count": null,
   "id": "0729f7d9-f4ee-48f6-87c2-50df1049674b",
   "metadata": {},
   "outputs": [],
   "source": [
    "spoken_language_types=pd.read_csv(\"spoken_language_types.csv\")\n",
    "spoken_language_types"
   ]
  },
  {
   "cell_type": "code",
   "execution_count": null,
   "id": "a38095b6-32b9-4996-a353-5dc5801156ec",
   "metadata": {},
   "outputs": [],
   "source": [
    "spoken_language_types.info()"
   ]
  },
  {
   "cell_type": "code",
   "execution_count": null,
   "id": "7ed67414-38f6-4e43-8d43-0a923f0136b7",
   "metadata": {},
   "outputs": [],
   "source": [
    "spoken_language_types.isnull().sum()"
   ]
  },
  {
   "cell_type": "code",
   "execution_count": null,
   "id": "875e52e4-cfd9-408c-83e8-c3fcb48043d0",
   "metadata": {},
   "outputs": [],
   "source": [
    "spoken_languages=pd.read_csv(\"spoken_languages.csv\")\n",
    "spoken_languages"
   ]
  },
  {
   "cell_type": "code",
   "execution_count": null,
   "id": "f467c3cf-853a-4500-b195-b624bd4cb54c",
   "metadata": {},
   "outputs": [],
   "source": [
    "spoken_languages.info()"
   ]
  },
  {
   "cell_type": "code",
   "execution_count": null,
   "id": "535e38be-cacc-4305-a66e-32ec0ebebb08",
   "metadata": {},
   "outputs": [],
   "source": [
    "spoken_languages.isnull().sum()"
   ]
  },
  {
   "cell_type": "code",
   "execution_count": null,
   "id": "b7fdf204-8144-4f4f-ac54-022fe6ddd70b",
   "metadata": {},
   "outputs": [],
   "source": [
    "status=pd.read_csv(\"status.csv\")\n",
    "status"
   ]
  },
  {
   "cell_type": "code",
   "execution_count": null,
   "id": "a87dc718-3cc1-46fb-b473-e4e3170fb1f3",
   "metadata": {},
   "outputs": [],
   "source": [
    "status.info()"
   ]
  },
  {
   "cell_type": "code",
   "execution_count": null,
   "id": "8f84105b-0112-4dca-8d7a-dd5301b10390",
   "metadata": {},
   "outputs": [],
   "source": [
    "types=pd.read_csv(\"types.csv\")\n",
    "types"
   ]
  },
  {
   "cell_type": "code",
   "execution_count": null,
   "id": "a0466f4a-f9b3-42ce-85f0-c3211f282064",
   "metadata": {},
   "outputs": [],
   "source": [
    "types.info()"
   ]
  },
  {
   "cell_type": "code",
   "execution_count": null,
   "id": "1b296e17-41b7-45df-92ce-53a2f33ae91c",
   "metadata": {},
   "outputs": [],
   "source": [
    "!pip install mysql-connector-python\n",
    "import mysql.connector"
   ]
  },
  {
   "cell_type": "code",
   "execution_count": null,
   "id": "64e58bd6-b8da-4b71-ae26-e384022cbb29",
   "metadata": {},
   "outputs": [],
   "source": [
    "import mysql.connector\n",
    "import getpass\n",
    "\n",
    "# Prompt the user for database connection details\n",
    "host = input(\"Enter your MySQL host (e.g., localhost): \")\n",
    "user = input(\"Enter your MySQL username: \")\n",
    "password = getpass.getpass(\"Enter your MySQL password: \")  # Hides password input\n",
    "database = input(\"Enter your database name: \")\n",
    "\n",
    "# Establish the connection using the provided details\n",
    "try:\n",
    "    tv_shows = mysql.connector.connect(\n",
    "        host=host,\n",
    "        user=user,\n",
    "        password=password,\n",
    "        database=database\n",
    "    )\n",
    "    print(\"Connection successful!\")\n",
    "except mysql.connector.Error as err:\n",
    "    print(f\"Error: {err}\")\n"
   ]
  },
  {
   "cell_type": "code",
   "execution_count": null,
   "id": "08641282-bf4e-4832-a6a6-9864ded00ca7",
   "metadata": {},
   "outputs": [],
   "source": [
    "mycursor=tv_shows.cursor()\n",
    "mycursor"
   ]
  },
  {
   "cell_type": "markdown",
   "id": "c7b9a52d-ce1d-40d9-816a-ff9076f7a05a",
   "metadata": {},
   "source": [
    "### <img src=\"C:\\Users\\Vishv Pratap Singh\\Downloads\\archive (2)\\TV Shows Database ER Diagram.png\">"
   ]
  },
  {
   "cell_type": "markdown",
   "id": "87dc915f-711f-467b-9c5a-ac350b7de272",
   "metadata": {},
   "source": [
    "## Creating the tables according to the image given above"
   ]
  },
  {
   "cell_type": "markdown",
   "id": "5239d27c-1a57-49c0-8684-f8237fd57742",
   "metadata": {},
   "source": [
    "**Creating table 'air_dates_final'**"
   ]
  },
  {
   "cell_type": "code",
   "execution_count": null,
   "id": "fce5adf2-1494-41b4-94dc-a1fe38341b80",
   "metadata": {},
   "outputs": [],
   "source": [
    "mycursor.execute(\"create table air_dates_final (is_first int, show_id int, date varchar(120))\")"
   ]
  },
  {
   "cell_type": "code",
   "execution_count": null,
   "id": "ba1d6fe9-884f-4608-91ee-19a2ea94dec0",
   "metadata": {},
   "outputs": [],
   "source": [
    "c=(\"insert into air_dates_final(is_first,show_id,date) values(%s,%s,%s)\")\n",
    "v=air_dates.values.tolist()"
   ]
  },
  {
   "cell_type": "code",
   "execution_count": null,
   "id": "f7315bd4-d595-44de-80f6-096edff39a9f",
   "metadata": {},
   "outputs": [],
   "source": [
    "mycursor.executemany(c,v)"
   ]
  },
  {
   "cell_type": "code",
   "execution_count": null,
   "id": "4e3766ef-8a75-47c1-b470-00797379ef59",
   "metadata": {},
   "outputs": [],
   "source": [
    "tv_shows.commit()"
   ]
  },
  {
   "cell_type": "markdown",
   "id": "644a8f14-b184-4a79-ad31-751d6cabbae4",
   "metadata": {},
   "source": [
    "**Creating table 'created_by'**"
   ]
  },
  {
   "cell_type": "code",
   "execution_count": null,
   "id": "e3fd7220-c7ae-4df6-b785-c9719f51bcfc",
   "metadata": {},
   "outputs": [],
   "source": [
    "mycursor.execute(\"create table created_by (show_id int, created_by_type_id int)\")"
   ]
  },
  {
   "cell_type": "code",
   "execution_count": null,
   "id": "e428d98b-ae6d-42f5-891b-79f1c0d3c465",
   "metadata": {},
   "outputs": [],
   "source": [
    "c=(\"insert into created_by(show_id, created_by_type_id) values (%s,%s)\")\n",
    "v=created_by.values.tolist()"
   ]
  },
  {
   "cell_type": "code",
   "execution_count": null,
   "id": "bbe374e4-7f9f-49e3-900f-ef1ab0f3adac",
   "metadata": {},
   "outputs": [],
   "source": [
    "mycursor.executemany(c,v)"
   ]
  },
  {
   "cell_type": "code",
   "execution_count": null,
   "id": "a4ee436f-395d-487b-82be-e37ba319aee0",
   "metadata": {},
   "outputs": [],
   "source": [
    "tv_shows.commit()"
   ]
  },
  {
   "cell_type": "markdown",
   "id": "13692688-eaf4-4bdf-90c4-315938451c8d",
   "metadata": {},
   "source": [
    "**Creating table 'created_by_types'**"
   ]
  },
  {
   "cell_type": "code",
   "execution_count": null,
   "id": "a4659fac-2ce6-425e-8093-2d08c9842c04",
   "metadata": {},
   "outputs": [],
   "source": [
    "mycursor.execute(\"create table created_by_types (created_by_type_id int, created_by_name varchar(50))\")"
   ]
  },
  {
   "cell_type": "code",
   "execution_count": null,
   "id": "6761e0f0-a5c9-42f8-9db1-0cdb490624e3",
   "metadata": {},
   "outputs": [],
   "source": [
    "c=(\"insert into created_by_types(created_by_type_id, created_by_name) values (%s,%s)\")\n",
    "v=created_by_types.values.tolist()"
   ]
  },
  {
   "cell_type": "code",
   "execution_count": null,
   "id": "2cb251dd-d57f-4925-b0e1-954131e2a49c",
   "metadata": {},
   "outputs": [],
   "source": [
    "mycursor.executemany(c,v)"
   ]
  },
  {
   "cell_type": "code",
   "execution_count": null,
   "id": "fcb550dd-fc3b-4475-b7f7-eaf691bb5821",
   "metadata": {},
   "outputs": [],
   "source": [
    "tv_shows.commit()"
   ]
  },
  {
   "cell_type": "markdown",
   "id": "2670f417-158e-4011-92e8-880be97cd715",
   "metadata": {},
   "source": [
    "**Creating table 'genre_type'**"
   ]
  },
  {
   "cell_type": "code",
   "execution_count": null,
   "id": "8a9bca30-16dd-4e45-acda-da7b54a5c16f",
   "metadata": {},
   "outputs": [],
   "source": [
    "mycursor.execute(\"create table genre_types(genre_type_id int, genre_name varchar(50))\")"
   ]
  },
  {
   "cell_type": "code",
   "execution_count": null,
   "id": "eaa89620-053b-4f83-8609-e53c5611931e",
   "metadata": {},
   "outputs": [],
   "source": [
    "c=(\"insert into genre_types(genre_type_id, genre_name) values (%s,%s)\")\n",
    "v=genre_types.values.tolist()"
   ]
  },
  {
   "cell_type": "code",
   "execution_count": null,
   "id": "870669f3-c8c2-4635-b6f0-51ffbd234b0a",
   "metadata": {},
   "outputs": [],
   "source": [
    "mycursor.executemany(c,v)"
   ]
  },
  {
   "cell_type": "code",
   "execution_count": null,
   "id": "31dcb4f6-cf54-44d9-be7c-c7fbf8658537",
   "metadata": {},
   "outputs": [],
   "source": [
    "tv_shows.commit()"
   ]
  },
  {
   "cell_type": "markdown",
   "id": "a39efbac-1bf8-4f18-b17e-9688be4d675e",
   "metadata": {},
   "source": [
    "**Creating table 'genres'**"
   ]
  },
  {
   "cell_type": "code",
   "execution_count": null,
   "id": "992e3067-7947-4f0b-b076-f7844d330553",
   "metadata": {},
   "outputs": [],
   "source": [
    "mycursor.execute(\"create table genres(show_id int, genre_type_id int)\")"
   ]
  },
  {
   "cell_type": "code",
   "execution_count": null,
   "id": "ffce10f6-675a-4a81-851e-d739d3bc7d8a",
   "metadata": {},
   "outputs": [],
   "source": [
    "c=(\"insert into genres (show_id, genre_type_id) values (%s,%s)\")\n",
    "v=genres.values.tolist()"
   ]
  },
  {
   "cell_type": "code",
   "execution_count": null,
   "id": "f9864ca9-5469-41cb-8d29-a66c2223bb69",
   "metadata": {},
   "outputs": [],
   "source": [
    "mycursor.executemany(c,v)"
   ]
  },
  {
   "cell_type": "code",
   "execution_count": null,
   "id": "a528f827-03d5-4d57-b705-b088ffa807d8",
   "metadata": {},
   "outputs": [],
   "source": [
    "tv_shows.commit()"
   ]
  },
  {
   "cell_type": "markdown",
   "id": "25180e22-84ff-494f-96ab-06974b599bc4",
   "metadata": {},
   "source": [
    "**Creating table 'language_types'**"
   ]
  },
  {
   "cell_type": "code",
   "execution_count": null,
   "id": "e116be85-2a90-4510-8ff6-9bb8aee5f1b8",
   "metadata": {},
   "outputs": [],
   "source": [
    "mycursor.execute(\"create table language_types(language_type_id int, language_name varchar(100))\")"
   ]
  },
  {
   "cell_type": "code",
   "execution_count": null,
   "id": "7ea1ab24-561f-4a21-911a-0831ed94dd37",
   "metadata": {},
   "outputs": [],
   "source": [
    "c=(\"insert into language_types(language_type_id, language_name) values (%s,%s)\")\n",
    "v=language_types.values.tolist()"
   ]
  },
  {
   "cell_type": "code",
   "execution_count": null,
   "id": "bdab9b1d-34f6-45a6-bb68-9b8c1908ec26",
   "metadata": {},
   "outputs": [],
   "source": [
    "mycursor.executemany(c,v)"
   ]
  },
  {
   "cell_type": "code",
   "execution_count": null,
   "id": "58ef5565-9163-4392-92b0-5211646878ef",
   "metadata": {},
   "outputs": [],
   "source": [
    "tv_shows.commit()"
   ]
  },
  {
   "cell_type": "markdown",
   "id": "83ddb74b-ba97-44e3-b6ec-a25b090293d7",
   "metadata": {},
   "source": [
    "**Creating table 'languages'**"
   ]
  },
  {
   "cell_type": "code",
   "execution_count": null,
   "id": "97877688-63ca-4cdd-88a9-fc1be3f42be4",
   "metadata": {},
   "outputs": [],
   "source": [
    "mycursor.execute(\"create table languages(show_id int, language_type_id int)\")"
   ]
  },
  {
   "cell_type": "code",
   "execution_count": null,
   "id": "dc44cbbe-efe0-42c6-8cf0-f53b25f05962",
   "metadata": {},
   "outputs": [],
   "source": [
    "c=(\"insert into languages (show_id, language_type_id) values (%s,%s)\")\n",
    "v=languages.values.tolist()"
   ]
  },
  {
   "cell_type": "code",
   "execution_count": null,
   "id": "d9ce2b65-93aa-4ebe-8c09-ca94af47b12a",
   "metadata": {},
   "outputs": [],
   "source": [
    "mycursor.executemany(c,v)"
   ]
  },
  {
   "cell_type": "code",
   "execution_count": null,
   "id": "a0b97fcc-f06d-4cdc-9995-751334b214d8",
   "metadata": {},
   "outputs": [],
   "source": [
    "tv_shows.commit()"
   ]
  },
  {
   "cell_type": "markdown",
   "id": "fe686a6d-05c0-45e4-b8cc-573251ac5a01",
   "metadata": {},
   "source": [
    "**Creating table 'link_types'**"
   ]
  },
  {
   "cell_type": "code",
   "execution_count": null,
   "id": "9754f441-3048-4363-865d-dd52f5e627f2",
   "metadata": {},
   "outputs": [],
   "source": [
    "mycursor.execute(\"create table link_types(link_type_id int, link_type varchar(100))\")"
   ]
  },
  {
   "cell_type": "code",
   "execution_count": null,
   "id": "0c91d84c-90ee-4c8a-ae71-4f171cd06314",
   "metadata": {},
   "outputs": [],
   "source": [
    "c=(\"insert into link_types(link_type_id,link_type) values (%s,%s)\")\n",
    "v=link_types.values.tolist()"
   ]
  },
  {
   "cell_type": "code",
   "execution_count": null,
   "id": "a30c3420-828e-4db0-a3c3-ef23d11fcd94",
   "metadata": {},
   "outputs": [],
   "source": [
    "mycursor.executemany(c,v)"
   ]
  },
  {
   "cell_type": "code",
   "execution_count": null,
   "id": "b967d4f2-f74c-4284-be4e-beea6429d299",
   "metadata": {},
   "outputs": [],
   "source": [
    "tv_shows.commit()"
   ]
  },
  {
   "cell_type": "markdown",
   "id": "7c5515e9-3d8d-4984-833a-2a060d7ad5dd",
   "metadata": {},
   "source": [
    "**Creating table 'links'**"
   ]
  },
  {
   "cell_type": "code",
   "execution_count": null,
   "id": "1ea604cf-64da-4e70-8f51-961f20d31edc",
   "metadata": {},
   "outputs": [],
   "source": [
    "mycursor.execute(\"create table links(link_type_id int, show_id int, link varchar (500))\")"
   ]
  },
  {
   "cell_type": "code",
   "execution_count": null,
   "id": "c8d7381b-acc7-4cb8-bbde-5043e1370d65",
   "metadata": {},
   "outputs": [],
   "source": [
    "c=(\"insert into links(link_type_id, show_id, link) values (%s,%s,%s)\")\n",
    "v=links.values.tolist()"
   ]
  },
  {
   "cell_type": "code",
   "execution_count": null,
   "id": "7b2528a7-c718-45ed-a7b0-f374932a93e5",
   "metadata": {},
   "outputs": [],
   "source": [
    "mycursor.executemany(c,v)"
   ]
  },
  {
   "cell_type": "code",
   "execution_count": null,
   "id": "46bd26bf-9aa7-41a9-961b-5365e500ef19",
   "metadata": {},
   "outputs": [],
   "source": [
    "tv_shows.commit()"
   ]
  },
  {
   "cell_type": "markdown",
   "id": "22dc5d78-93f2-488c-af9d-94bbfd275566",
   "metadata": {},
   "source": [
    "**Creating table 'network_types'**"
   ]
  },
  {
   "cell_type": "code",
   "execution_count": null,
   "id": "e8307ebb-2f74-4a8c-a0b9-091beb3e735b",
   "metadata": {},
   "outputs": [],
   "source": [
    "mycursor.execute(\"create table network_types(network_type_id int, network_name varchar(200))\")"
   ]
  },
  {
   "cell_type": "code",
   "execution_count": null,
   "id": "0db4e406-8875-4e86-8953-1edcd4980ead",
   "metadata": {},
   "outputs": [],
   "source": [
    "c=(\"insert into network_types(network_type_id,network_name) values(%s,%s)\")\n",
    "v=network_types.values.tolist()"
   ]
  },
  {
   "cell_type": "code",
   "execution_count": null,
   "id": "05590f0e-3a41-474c-99f6-b4ac175d4a33",
   "metadata": {},
   "outputs": [],
   "source": [
    "mycursor.executemany(c,v)"
   ]
  },
  {
   "cell_type": "code",
   "execution_count": null,
   "id": "a8fa21ff-ae38-45f7-955f-7b3324c19972",
   "metadata": {},
   "outputs": [],
   "source": [
    "tv_shows.commit()"
   ]
  },
  {
   "cell_type": "markdown",
   "id": "6b9d3d6c-2424-495d-b156-0c9cd376e4e9",
   "metadata": {},
   "source": [
    "**Creating table 'networks'**"
   ]
  },
  {
   "cell_type": "code",
   "execution_count": null,
   "id": "5172024f-19a4-4cce-8099-ed066d509663",
   "metadata": {},
   "outputs": [],
   "source": [
    "mycursor.execute(\"create table networks(show_id int, network_type_id int)\")"
   ]
  },
  {
   "cell_type": "code",
   "execution_count": null,
   "id": "7c8eb41c-acd1-4e4f-84a1-9cafe3a9ef46",
   "metadata": {},
   "outputs": [],
   "source": [
    "c=(\"insert into networks(show_id, network_type_id) values (%s,%s)\")\n",
    "v=networks.values.tolist()"
   ]
  },
  {
   "cell_type": "code",
   "execution_count": null,
   "id": "73fa4432-66c4-4ef1-ab70-698b36100224",
   "metadata": {},
   "outputs": [],
   "source": [
    "mycursor.executemany(c,v)"
   ]
  },
  {
   "cell_type": "code",
   "execution_count": null,
   "id": "1f9dc1af-ed78-4444-8d24-5788b4141fb7",
   "metadata": {},
   "outputs": [],
   "source": [
    "tv_shows.commit()"
   ]
  },
  {
   "cell_type": "markdown",
   "id": "cebdf897-a51b-4968-844c-398a02a2e690",
   "metadata": {},
   "source": [
    "**Creating table 'origin_country_types'**"
   ]
  },
  {
   "cell_type": "code",
   "execution_count": null,
   "id": "8b37b50f-6359-4646-be98-a0a2398aafa6",
   "metadata": {},
   "outputs": [],
   "source": [
    "mycursor.execute(\"create table origin_country_types(origin_country_type_id int, origin_country_name varchar(500))\")"
   ]
  },
  {
   "cell_type": "code",
   "execution_count": null,
   "id": "30797ddd-7c0f-4a7b-9f10-78011ce20ec7",
   "metadata": {},
   "outputs": [],
   "source": [
    "c=(\"insert into origin_country_types(origin_country_type_id, origin_country_name) values (%s,%s)\")\n",
    "v=origin_country_types.values.tolist()"
   ]
  },
  {
   "cell_type": "code",
   "execution_count": null,
   "id": "224a6583-9cd6-4e50-a78a-0223f63de8e5",
   "metadata": {},
   "outputs": [],
   "source": [
    "mycursor.executemany(c,v)"
   ]
  },
  {
   "cell_type": "code",
   "execution_count": null,
   "id": "b4d30005-85b2-4a7e-8376-c7f3b1f127db",
   "metadata": {},
   "outputs": [],
   "source": [
    "tv_shows.commit()"
   ]
  },
  {
   "cell_type": "markdown",
   "id": "fa616543-11ed-4976-a2e3-4d1483b97972",
   "metadata": {},
   "source": [
    "**Creating table 'production_companies'**"
   ]
  },
  {
   "cell_type": "code",
   "execution_count": null,
   "id": "2bb6690d-ac2b-4d8f-88f3-cbd49b5a6ac3",
   "metadata": {},
   "outputs": [],
   "source": [
    "mycursor.execute(\"create table production_companies(show_id int, production_company_type_id int)\")"
   ]
  },
  {
   "cell_type": "code",
   "execution_count": null,
   "id": "e113e045-7888-4ae0-b8df-4d0828a6c365",
   "metadata": {},
   "outputs": [],
   "source": [
    "c=(\"insert into production_companies (show_id, production_company_type_id) values (%s,%s)\")\n",
    "v=production_companies.values.tolist()"
   ]
  },
  {
   "cell_type": "code",
   "execution_count": null,
   "id": "d4fb1959-db43-4a04-9a3f-d25c671270ea",
   "metadata": {},
   "outputs": [],
   "source": [
    "mycursor.executemany(c,v)"
   ]
  },
  {
   "cell_type": "code",
   "execution_count": null,
   "id": "edc23726-04c3-4d1a-98d6-f000810ce58f",
   "metadata": {},
   "outputs": [],
   "source": [
    "tv_shows.commit()"
   ]
  },
  {
   "cell_type": "markdown",
   "id": "159e0134-a28d-42ea-844b-6ccc170af661",
   "metadata": {},
   "source": [
    "**Creating table 'production_company_types'**"
   ]
  },
  {
   "cell_type": "code",
   "execution_count": null,
   "id": "2f93b801-94f5-452a-a515-3060b9c712ff",
   "metadata": {},
   "outputs": [],
   "source": [
    "mycursor.execute(\"create table production_company_types(production_company_type_id int, production_company_name varchar(500))\")"
   ]
  },
  {
   "cell_type": "code",
   "execution_count": null,
   "id": "4a145902-0f8f-4d08-a40b-09c2747ae707",
   "metadata": {},
   "outputs": [],
   "source": [
    "c=(\"insert into production_company_types(production_company_type_id, production_company_name) values (%s,%s)\")\n",
    "v=production_company_types.values.tolist()"
   ]
  },
  {
   "cell_type": "code",
   "execution_count": null,
   "id": "a51b1ed4-5b57-4ed1-ae11-3893aeaeb6cf",
   "metadata": {},
   "outputs": [],
   "source": [
    "mycursor.executemany(c,v)"
   ]
  },
  {
   "cell_type": "code",
   "execution_count": null,
   "id": "e730573c-0511-4cbc-ae24-477786f9d5b0",
   "metadata": {},
   "outputs": [],
   "source": [
    "tv_shows.commit()"
   ]
  },
  {
   "cell_type": "markdown",
   "id": "5e3613a4-947a-4471-98c3-d4a9f8361cd4",
   "metadata": {},
   "source": [
    "**Creating table 'production_countries'**"
   ]
  },
  {
   "cell_type": "code",
   "execution_count": null,
   "id": "520527ef-7377-41ad-829c-362575d66b9f",
   "metadata": {},
   "outputs": [],
   "source": [
    "mycursor.execute(\"create table production_countries(show_id int, production_country_type_id int, origin_country_type_id int)\")"
   ]
  },
  {
   "cell_type": "code",
   "execution_count": null,
   "id": "cc1e6c5a-8ee9-42de-bd77-b28df466bcf4",
   "metadata": {},
   "outputs": [],
   "source": [
    "c=(\"insert into production_countries(show_id, production_country_type_id, origin_country_type_id) values (%s,%s,%s)\")\n",
    "v=production_countries.values.tolist()"
   ]
  },
  {
   "cell_type": "code",
   "execution_count": null,
   "id": "3484417f-59dd-47ff-8f25-35960d8c7e3c",
   "metadata": {},
   "outputs": [],
   "source": [
    "mycursor.executemany(c,v)"
   ]
  },
  {
   "cell_type": "code",
   "execution_count": null,
   "id": "94d63eed-5618-4136-8eb1-8efabcafb213",
   "metadata": {},
   "outputs": [],
   "source": [
    "tv_shows.commit()"
   ]
  },
  {
   "cell_type": "markdown",
   "id": "f5f1bbb9-2757-4450-9944-9b6e2a2370ee",
   "metadata": {},
   "source": [
    "**Creating table 'production_countries_types'**"
   ]
  },
  {
   "cell_type": "code",
   "execution_count": null,
   "id": "f5111e36-4892-404b-9434-dc90d70d5f93",
   "metadata": {},
   "outputs": [],
   "source": [
    "mycursor.execute(\"create table production_country_types(production_country_type_id int, production_country_name varchar(500))\")"
   ]
  },
  {
   "cell_type": "code",
   "execution_count": null,
   "id": "79e73871-3001-49fe-aa65-c914a8aff457",
   "metadata": {},
   "outputs": [],
   "source": [
    "c=(\"insert into production_country_types(production_country_type_id, production_country_name) values (%s,%s)\")\n",
    "v=production_country_types.values.tolist()"
   ]
  },
  {
   "cell_type": "code",
   "execution_count": null,
   "id": "f60a4f2f-d29f-4c83-9a8e-63c91e327cf6",
   "metadata": {},
   "outputs": [],
   "source": [
    "mycursor.executemany(c,v)"
   ]
  },
  {
   "cell_type": "code",
   "execution_count": null,
   "id": "453c0116-9523-49ac-b28e-1eb44af30f89",
   "metadata": {},
   "outputs": [],
   "source": [
    "tv_shows.commit()"
   ]
  },
  {
   "cell_type": "markdown",
   "id": "38b69aa4-5a52-46f3-a096-aa3bded3c09b",
   "metadata": {},
   "source": [
    "**Creating table 'show_votes'**"
   ]
  },
  {
   "cell_type": "code",
   "execution_count": null,
   "id": "a0064105-0469-4852-b663-351b01b8bd52",
   "metadata": {},
   "outputs": [],
   "source": [
    "mycursor.execute(\"create table show_votes(vote_count int, vote_average float, show_id int)\")"
   ]
  },
  {
   "cell_type": "code",
   "execution_count": null,
   "id": "c536cc72-ecca-4dc7-aaf2-ebcd6fefd6c5",
   "metadata": {},
   "outputs": [],
   "source": [
    "c=(\"insert into show_votes(vote_count, vote_average, show_id) values (%s,%s,%s)\")\n",
    "v=show_votes.values.tolist()"
   ]
  },
  {
   "cell_type": "code",
   "execution_count": null,
   "id": "c617a828-0656-492e-8b02-4edbf7c96636",
   "metadata": {},
   "outputs": [],
   "source": [
    "mycursor.executemany(c,v)"
   ]
  },
  {
   "cell_type": "code",
   "execution_count": null,
   "id": "b64040dc-c8ff-4ce9-b325-84e98e998d5c",
   "metadata": {},
   "outputs": [],
   "source": [
    "tv_shows.commit()"
   ]
  },
  {
   "cell_type": "markdown",
   "id": "607b81fd-f250-48c9-9668-b300fe8b731c",
   "metadata": {},
   "source": [
    "**Creating table 'shows'**"
   ]
  },
  {
   "cell_type": "code",
   "execution_count": null,
   "id": "5e6d8083-7c58-4430-8801-5f2d3bcabe68",
   "metadata": {},
   "outputs": [],
   "source": [
    "shows.dropna(inplace=True)\n",
    "shows.info()"
   ]
  },
  {
   "cell_type": "code",
   "execution_count": null,
   "id": "7e8b0091-d49f-4baf-b0b1-61d4fa18329d",
   "metadata": {},
   "outputs": [],
   "source": [
    "mycursor.execute(\"create table shows(show_id int, name varchar(500), number_of_seasons int, number_of_episodes int, adult int, in_production int, original_name varchar(500), popularity float, eposide_run_time int, type_id int, status_id int)\")"
   ]
  },
  {
   "cell_type": "code",
   "execution_count": null,
   "id": "e290a2fa-2b8b-4390-8e0e-f84c7300902a",
   "metadata": {},
   "outputs": [],
   "source": [
    "c=(\"insert into shows(show_id,name,number_of_seasons,number_of_episodes,adult,in_production,original_name,popularity,eposide_run_time,type_id,status_id) values (%s,%s,%s,%s,%s,%s,%s,%s,%s,%s,%s)\")\n",
    "v=shows.values.tolist()"
   ]
  },
  {
   "cell_type": "code",
   "execution_count": null,
   "id": "d52b8e98-93fd-44ce-8c46-baa4bcfddabf",
   "metadata": {},
   "outputs": [],
   "source": [
    "mycursor.executemany(c,v)"
   ]
  },
  {
   "cell_type": "code",
   "execution_count": null,
   "id": "67be2b7d-9df6-4b1e-a538-3a45037324ae",
   "metadata": {},
   "outputs": [],
   "source": [
    "tv_shows.commit()"
   ]
  },
  {
   "cell_type": "markdown",
   "id": "a5f0653e-85ee-4daf-af06-2fd743e13c57",
   "metadata": {},
   "source": [
    "**Creating table 'spoken_language_types'**"
   ]
  },
  {
   "cell_type": "code",
   "execution_count": null,
   "id": "42b7d16f-37df-4b0c-974b-89c235eac8a2",
   "metadata": {},
   "outputs": [],
   "source": [
    "mycursor.execute(\"create table spoken_language_types(spoken_language_type_id int, spoken_language_name varchar(500))\")"
   ]
  },
  {
   "cell_type": "code",
   "execution_count": null,
   "id": "be82365f-86ee-45ec-bc6a-7f43cf9e0dff",
   "metadata": {},
   "outputs": [],
   "source": [
    "c=(\"insert into spoken_language_types(spoken_language_type_id, spoken_language_name) values (%s,%s)\")\n",
    "v=spoken_language_types.values.tolist()"
   ]
  },
  {
   "cell_type": "code",
   "execution_count": null,
   "id": "ef0c3b04-0403-4607-be71-f772ff36e5a6",
   "metadata": {},
   "outputs": [],
   "source": [
    "mycursor.executemany(c,v)"
   ]
  },
  {
   "cell_type": "code",
   "execution_count": null,
   "id": "71aa0850-a588-445d-8348-12696e43df22",
   "metadata": {},
   "outputs": [],
   "source": [
    "tv_shows.commit()"
   ]
  },
  {
   "cell_type": "markdown",
   "id": "842b2f9b-0523-4c73-ac44-c66298d44526",
   "metadata": {},
   "source": [
    "**Creating table 'spoken_languages'**"
   ]
  },
  {
   "cell_type": "code",
   "execution_count": null,
   "id": "babac011-6ad1-451c-93cc-1aca68bb3e20",
   "metadata": {},
   "outputs": [],
   "source": [
    "mycursor.execute(\"create table spoken_languages(show_id int, spoken_language_type_id int)\")"
   ]
  },
  {
   "cell_type": "code",
   "execution_count": null,
   "id": "53e9b7af-d3a0-41df-9f1e-490b7621604f",
   "metadata": {},
   "outputs": [],
   "source": [
    "c=(\"insert into spoken_languages(show_id, spoken_language_type_id) values (%s,%s)\")\n",
    "v=spoken_languages.values.tolist()"
   ]
  },
  {
   "cell_type": "code",
   "execution_count": null,
   "id": "7aef9b6a-d1f8-4d36-a3f6-ff491ccc8ea2",
   "metadata": {},
   "outputs": [],
   "source": [
    "mycursor.executemany(c,v)"
   ]
  },
  {
   "cell_type": "code",
   "execution_count": null,
   "id": "55009eaf-073e-43f6-a3ba-4e21a43e957d",
   "metadata": {},
   "outputs": [],
   "source": [
    "tv_shows.commit()"
   ]
  },
  {
   "cell_type": "markdown",
   "id": "3895a4a6-6b80-4125-8466-b6b337c42fe8",
   "metadata": {},
   "source": [
    "**Creating table 'status'**"
   ]
  },
  {
   "cell_type": "code",
   "execution_count": null,
   "id": "3a7daea3-c1ca-45f3-9a79-626d047f7f23",
   "metadata": {},
   "outputs": [],
   "source": [
    "mycursor.execute(\"create table status(status_id int, status_name varchar(500))\")"
   ]
  },
  {
   "cell_type": "code",
   "execution_count": null,
   "id": "1813a166-7322-46df-84f2-858b4d69217a",
   "metadata": {},
   "outputs": [],
   "source": [
    "c=(\"insert into status(status_id, status_name) values (%s,%s)\")\n",
    "v=status.values.tolist()"
   ]
  },
  {
   "cell_type": "code",
   "execution_count": null,
   "id": "916f24f8-bb7c-4262-a82a-677e331b8a69",
   "metadata": {},
   "outputs": [],
   "source": [
    "mycursor.executemany(c,v)"
   ]
  },
  {
   "cell_type": "code",
   "execution_count": null,
   "id": "ec883e92-d270-4a2b-940c-659f1ac2464d",
   "metadata": {},
   "outputs": [],
   "source": [
    "tv_shows.commit()"
   ]
  },
  {
   "cell_type": "markdown",
   "id": "4b724cda-d062-4243-afc0-6d2aec764938",
   "metadata": {},
   "source": [
    "**Creating table 'types'**"
   ]
  },
  {
   "cell_type": "code",
   "execution_count": null,
   "id": "55624931-071d-469b-a2c2-629767ce0424",
   "metadata": {},
   "outputs": [],
   "source": [
    "mycursor.execute(\"create table types(type_id int, type_name varchar(500))\")"
   ]
  },
  {
   "cell_type": "code",
   "execution_count": null,
   "id": "e94a5b29-97bb-472f-a6ac-acacfec1f443",
   "metadata": {},
   "outputs": [],
   "source": [
    "c=(\"insert into types (type_id, type_name) values (%s,%s)\")\n",
    "v=types.values.tolist()"
   ]
  },
  {
   "cell_type": "code",
   "execution_count": null,
   "id": "78440ea7-7a98-40ef-905d-eead4116c81e",
   "metadata": {},
   "outputs": [],
   "source": [
    "mycursor.executemany(c,v)"
   ]
  },
  {
   "cell_type": "code",
   "execution_count": null,
   "id": "309301ff-930b-46b4-bc3b-a8af82397a74",
   "metadata": {},
   "outputs": [],
   "source": [
    "tv_shows.commit()"
   ]
  },
  {
   "cell_type": "markdown",
   "id": "b8fb8344-ae4e-4837-8fad-46a4effd2938",
   "metadata": {},
   "source": [
    "## Questions and Queries"
   ]
  },
  {
   "cell_type": "markdown",
   "id": "a907a9d7-f5c0-44fa-bdba-ba3eba9c2995",
   "metadata": {},
   "source": [
    "**Q1.Retrieve a list of all TV shows along with their release year and genre.**"
   ]
  },
  {
   "cell_type": "code",
   "execution_count": null,
   "id": "353d6d22-6523-4a3b-9f80-8d4c01da1c50",
   "metadata": {},
   "outputs": [],
   "source": [
    "#query\n",
    "mycursor.execute(\"select shows.name , air_dates_final.date, genre_types.genre_name from shows join air_dates_final on shows.show_id=air_dates_final.show_id join genres on air_dates_final.show_id=genres.show_id join genre_types on genres.genre_type_id=genre_types.genre_type_id\")"
   ]
  },
  {
   "cell_type": "code",
   "execution_count": null,
   "id": "212fa362-27a6-4d00-a837-4bbce7e0929e",
   "metadata": {},
   "outputs": [],
   "source": [
    "#output\n",
    "for i in mycursor:\n",
    "    print(i)"
   ]
  },
  {
   "cell_type": "markdown",
   "id": "c223f523-d7d7-4a2c-9cb2-2c132f3a8a6f",
   "metadata": {},
   "source": [
    "**Q2.Find the total number of TV shows in the dataset.**"
   ]
  },
  {
   "cell_type": "code",
   "execution_count": null,
   "id": "6a311507-8b52-464c-bc36-6b9fc170d615",
   "metadata": {},
   "outputs": [],
   "source": [
    "#query\n",
    "mycursor.execute(\"select count(name) from shows\")"
   ]
  },
  {
   "cell_type": "code",
   "execution_count": null,
   "id": "247801b6-2e5e-4b27-8dae-53055bb36d92",
   "metadata": {},
   "outputs": [],
   "source": [
    "#output\n",
    "for i in mycursor:\n",
    "    print(i)"
   ]
  },
  {
   "cell_type": "markdown",
   "id": "a0513e3a-ce02-4838-8a7a-00c867507371",
   "metadata": {},
   "source": [
    "**Q3.List all TV shows that were released after the year 2015.**"
   ]
  },
  {
   "cell_type": "code",
   "execution_count": null,
   "id": "ce4a3de8-91eb-4b4f-9749-25bd934af836",
   "metadata": {},
   "outputs": [],
   "source": [
    "#query\n",
    "mycursor.execute(\"select shows.name, air_dates_final.date from shows join air_dates_final on shows.show_id=air_dates_final.show_id where air_dates_final.date > '2015-12-31'\")"
   ]
  },
  {
   "cell_type": "code",
   "execution_count": null,
   "id": "dc018cdf-4f49-411d-98e5-3e97570da3c4",
   "metadata": {},
   "outputs": [],
   "source": [
    "#output\n",
    "for i in mycursor:\n",
    "    print(i)"
   ]
  },
  {
   "cell_type": "markdown",
   "id": "0725c915-d4ac-4881-967a-71b9b4474dc0",
   "metadata": {},
   "source": [
    "**Q4.Find the most common genre of TV shows in the dataset.**"
   ]
  },
  {
   "cell_type": "code",
   "execution_count": null,
   "id": "ee0038a8-37ce-4815-90b7-5bef21ccbafc",
   "metadata": {},
   "outputs": [],
   "source": [
    "#query\n",
    "mycursor.execute(\"select count(genres.genre_type_id) as 'Most_Common_Genre' , genre_types.genre_name from genres join genre_types on genres.genre_type_id=genre_types.genre_type_id group by genre_types.genre_name order by Most_Common_Genre desc limit 1\")"
   ]
  },
  {
   "cell_type": "code",
   "execution_count": null,
   "id": "b1987d1d-5497-4a24-a931-0c029c971321",
   "metadata": {},
   "outputs": [],
   "source": [
    "#query\n",
    "for i in mycursor:\n",
    "    print(i)"
   ]
  },
  {
   "cell_type": "markdown",
   "id": "f45a5b16-4b0a-4c90-87ba-df1cfe3102b5",
   "metadata": {},
   "source": [
    "**Q5.List the top 5 genres based on the number of TV shows.**"
   ]
  },
  {
   "cell_type": "code",
   "execution_count": null,
   "id": "48b13a43-4cb7-4c00-94cb-8b82d32c2c35",
   "metadata": {},
   "outputs": [],
   "source": [
    "#query\n",
    "mycursor.execute(\"select count(genres.show_id) as 'Number_of_shows', genre_types.genre_name from genres join genre_types on genres.genre_type_id=genre_types.genre_type_id group by genre_types.genre_name order by Number_of_shows desc limit 5\")"
   ]
  },
  {
   "cell_type": "code",
   "execution_count": null,
   "id": "4388738b-fe25-4397-8bbb-a966bdf45b90",
   "metadata": {},
   "outputs": [],
   "source": [
    "#output\n",
    "for i in mycursor:\n",
    "    print(i)"
   ]
  },
  {
   "cell_type": "markdown",
   "id": "f8b8c9c1-20cb-4062-86ba-2ad340d0323b",
   "metadata": {},
   "source": [
    "**Q6.Find the TV shows with the highest rating.**"
   ]
  },
  {
   "cell_type": "code",
   "execution_count": null,
   "id": "a8f8eb2c-ae4d-4af4-93e2-7d5b9308c7eb",
   "metadata": {},
   "outputs": [],
   "source": [
    "#query\n",
    "mycursor.execute(\"select shows.name, show_votes.vote_count, show_votes.vote_average from shows join show_votes on shows.show_id=show_votes.show_id order by show_votes.vote_count desc limit 1\")"
   ]
  },
  {
   "cell_type": "code",
   "execution_count": null,
   "id": "09187596-f329-477c-b8c9-2cbcadf3e302",
   "metadata": {},
   "outputs": [],
   "source": [
    "#output\n",
    "for i in mycursor:\n",
    "    print(i)"
   ]
  },
  {
   "cell_type": "markdown",
   "id": "bf08a976-0d24-4a37-b215-6e281e9a4cc1",
   "metadata": {},
   "source": [
    "**Q7.List all TV shows with a rating greater than 8.**"
   ]
  },
  {
   "cell_type": "code",
   "execution_count": null,
   "id": "83188aa5-f0c0-482a-bf8a-bde2e3c91bcb",
   "metadata": {},
   "outputs": [],
   "source": [
    "#query\n",
    "mycursor.execute(\"select shows.name, show_votes.vote_average from shows join show_votes on shows.show_id=show_votes.show_id where show_votes.vote_average>'8' order by show_votes.vote_average desc\")"
   ]
  },
  {
   "cell_type": "code",
   "execution_count": null,
   "id": "71cad47f-3ccf-4d6b-9724-665fa2c6b3f4",
   "metadata": {},
   "outputs": [],
   "source": [
    "#output\n",
    "for i in mycursor:\n",
    "    print(i)"
   ]
  },
  {
   "cell_type": "markdown",
   "id": "8eab5365-932a-460a-b325-db250633482f",
   "metadata": {},
   "source": [
    "**Q8.Find the most frequent creators across all TV shows.**"
   ]
  },
  {
   "cell_type": "code",
   "execution_count": null,
   "id": "36797985-7d4f-4f69-9ab4-afa74a9714d8",
   "metadata": {},
   "outputs": [],
   "source": [
    "#query\n",
    "mycursor.execute(\"select created_by_types.created_by_name, count(created_by.show_id) as 'Number_of_shows' from created_by_types join created_by on created_by_types.created_by_type_id=created_by.created_by_type_id group by created_by_types.created_by_name order by Number_of_shows desc\")"
   ]
  },
  {
   "cell_type": "code",
   "execution_count": null,
   "id": "97ac13ce-d7f9-498f-b860-9b3321caa677",
   "metadata": {},
   "outputs": [],
   "source": [
    "#output\n",
    "for i in mycursor:\n",
    "    print(i)"
   ]
  },
  {
   "cell_type": "markdown",
   "id": "c109d877-c72f-49a6-9683-19c3d5ed43f6",
   "metadata": {},
   "source": [
    "**Q9.Retrieve TV shows which are produced by 'ABC Productions'.**"
   ]
  },
  {
   "cell_type": "code",
   "execution_count": null,
   "id": "51dbe7d5-2695-4489-904a-7a43c05fc9fb",
   "metadata": {},
   "outputs": [],
   "source": [
    "#query\n",
    "mycursor.execute(\"select shows.name, production_company_types.production_company_name from shows join production_companies on shows.show_id=production_companies.show_id join production_company_types on production_companies.production_company_type_id=production_company_types.production_company_type_id where production_company_types.production_company_name='ABC Productions'\")"
   ]
  },
  {
   "cell_type": "code",
   "execution_count": null,
   "id": "f2384a73-3602-4bb8-9d7e-dbc3eba9d7f8",
   "metadata": {},
   "outputs": [],
   "source": [
    "#output\n",
    "for i in mycursor:\n",
    "    print(i)"
   ]
  },
  {
   "cell_type": "markdown",
   "id": "ed0eac75-0fac-4370-8102-b27853da7edd",
   "metadata": {},
   "source": [
    "**Q10.Find the total number of episodes for each TV show.**"
   ]
  },
  {
   "cell_type": "code",
   "execution_count": null,
   "id": "684ea138-a558-4b91-bf6a-18c803b9979c",
   "metadata": {},
   "outputs": [],
   "source": [
    "#query\n",
    "mycursor.execute(\"select name, number_of_episodes from shows order by number_of_episodes desc\")"
   ]
  },
  {
   "cell_type": "code",
   "execution_count": null,
   "id": "f0b2c931-6cec-491d-b7fe-8e324bd95515",
   "metadata": {
    "scrolled": true
   },
   "outputs": [],
   "source": [
    "#output\n",
    "for i in mycursor:\n",
    "    print(i)"
   ]
  },
  {
   "cell_type": "markdown",
   "id": "cc649c77-6d29-489b-acb5-1631493f05f0",
   "metadata": {},
   "source": [
    "**Q11.Retrieve the TV shows that have more than 5 seasons.**"
   ]
  },
  {
   "cell_type": "code",
   "execution_count": null,
   "id": "42f1d6e1-bca1-4b3e-af57-03b904068a28",
   "metadata": {},
   "outputs": [],
   "source": [
    "#query\n",
    "mycursor.execute(\"select name from shows where number_of_seasons > '5'\")"
   ]
  },
  {
   "cell_type": "code",
   "execution_count": null,
   "id": "f495651e-6cdc-4f6c-8ed1-89e83c6aa3f8",
   "metadata": {
    "scrolled": true
   },
   "outputs": [],
   "source": [
    "#output\n",
    "for i in mycursor:\n",
    "    print(i)"
   ]
  },
  {
   "cell_type": "markdown",
   "id": "6021c761-eb8a-41d8-83b4-f44bb253f3fa",
   "metadata": {},
   "source": [
    "**Q12.List all episodes of a specific show, along with their air dates and ratings.**"
   ]
  },
  {
   "cell_type": "code",
   "execution_count": null,
   "id": "345322b7-881c-48e0-be41-a3d719c6f6cd",
   "metadata": {},
   "outputs": [],
   "source": [
    "#query\n",
    "mycursor.execute(\"select shows.name, shows.number_of_episodes, air_dates_final.date, show_votes.vote_average from shows join air_dates_final on shows.show_id=air_dates_final.show_id join show_votes on air_dates_final.show_id=show_votes.show_id\")"
   ]
  },
  {
   "cell_type": "code",
   "execution_count": null,
   "id": "b4711f1a-88f1-4c4e-ac9a-405f0fa623f6",
   "metadata": {
    "scrolled": true
   },
   "outputs": [],
   "source": [
    "#output\n",
    "for i in mycursor:\n",
    "    print(i)"
   ]
  },
  {
   "cell_type": "markdown",
   "id": "6919e11f-ed46-4811-9f9b-1e2fa344eede",
   "metadata": {},
   "source": [
    "**Q13.Retrieve a list of all TV shows along with their language.**"
   ]
  },
  {
   "cell_type": "code",
   "execution_count": null,
   "id": "3bf8d7e6-e964-4641-9cf2-286f7984b1c1",
   "metadata": {},
   "outputs": [],
   "source": [
    "#query\n",
    "mycursor.execute(\"select shows.name, spoken_language_types.spoken_language_name from shows join spoken_languages on shows.show_id=spoken_languages.show_id join spoken_language_types on spoken_languages.spoken_language_type_id=spoken_language_types.spoken_language_type_id\")"
   ]
  },
  {
   "cell_type": "code",
   "execution_count": null,
   "id": "e6e5b1d8-0d45-4d37-a586-36980bb57456",
   "metadata": {},
   "outputs": [],
   "source": [
    "#output\n",
    "for i in mycursor:\n",
    "    print(i)"
   ]
  },
  {
   "cell_type": "markdown",
   "id": "c0e69182-6724-49fd-97b2-386e3e50da1a",
   "metadata": {},
   "source": [
    "**Q14.Find the most common language of TV shows in the dataset.**"
   ]
  },
  {
   "cell_type": "code",
   "execution_count": null,
   "id": "84c1d702-bab7-4d1c-9ac9-cf33543f3622",
   "metadata": {},
   "outputs": [],
   "source": [
    "#query\n",
    "mycursor.execute(\"select spoken_language_types.spoken_language_name, count(spoken_languages.spoken_language_type_id) as 'Most_common_language' from spoken_language_types join spoken_languages on spoken_language_types.spoken_language_type_id=spoken_languages.spoken_language_type_id group by spoken_language_types.spoken_language_name order by Most_common_language desc\")"
   ]
  },
  {
   "cell_type": "code",
   "execution_count": null,
   "id": "0c21498b-66ae-482b-8b3f-4c7941bbb104",
   "metadata": {},
   "outputs": [],
   "source": [
    "#output\n",
    "for i in mycursor:\n",
    "    print(i)"
   ]
  },
  {
   "cell_type": "markdown",
   "id": "381678f1-0b2e-4561-bfef-5b20307b169a",
   "metadata": {},
   "source": [
    "**Q15.Retrieve TV shows that are canceled.**"
   ]
  },
  {
   "cell_type": "code",
   "execution_count": null,
   "id": "daef8dc5-5cfa-40bd-877d-047feb71e31c",
   "metadata": {},
   "outputs": [],
   "source": [
    "#query\n",
    "mycursor.execute(\"select shows.name from shows join status on shows.status_id=status.status_id where status.status_name='Canceled'\")"
   ]
  },
  {
   "cell_type": "code",
   "execution_count": null,
   "id": "58dbdb3a-c8ec-475f-a405-6e60b3be3bc6",
   "metadata": {},
   "outputs": [],
   "source": [
    "#output\n",
    "for i in mycursor:\n",
    "    print(i)"
   ]
  },
  {
   "cell_type": "markdown",
   "id": "60b41cd1-605b-4472-8297-d4bb290a2961",
   "metadata": {},
   "source": [
    "**Q16.Find TV shows that ended after '2020-12-31'.**"
   ]
  },
  {
   "cell_type": "code",
   "execution_count": null,
   "id": "85cf2414-dac7-4fd5-bf84-abedf7ea21aa",
   "metadata": {},
   "outputs": [],
   "source": [
    "#query\n",
    "mycursor.execute(\"select status.status_name, shows.name, air_dates_final.date from status join shows on status.status_id=shows.status_id join air_dates_final on shows.show_id=air_dates_final.show_id where air_dates_final.date>'2020-12-31' and status.status_name='Ended'\")"
   ]
  },
  {
   "cell_type": "code",
   "execution_count": null,
   "id": "d3bfebb0-ecd6-4f65-9b1f-c6b74c99299e",
   "metadata": {},
   "outputs": [],
   "source": [
    "#output\n",
    "for i in mycursor:\n",
    "    print(i)"
   ]
  },
  {
   "cell_type": "markdown",
   "id": "23983f33-76e0-4ed3-ba23-c39b95140804",
   "metadata": {},
   "source": [
    "**Q17.Stored Procedure to Retrieve Shows by Genre:**"
   ]
  },
  {
   "cell_type": "code",
   "execution_count": null,
   "id": "72df675f-0645-409b-8432-8d1c729d10ae",
   "metadata": {},
   "outputs": [],
   "source": [
    "#query\n",
    "# Step 1: Create the stored procedure (without DELIMITER)\n",
    "try:\n",
    "    mycursor.execute(\"\"\"\n",
    "    CREATE PROCEDURE GetShowsByGenre(IN genre_name VARCHAR(50))\n",
    "    BEGIN\n",
    "        SELECT shows.name\n",
    "        FROM shows \n",
    "        JOIN genres ON shows.show_id = genres.show_id \n",
    "        JOIN genre_types ON genres.genre_type_id = genre_types.genre_type_id\n",
    "        WHERE genre_types.genre_name = genre_name;\n",
    "    END\n",
    "    \"\"\")\n",
    "    tv_shows.commit()\n",
    "    print(\"Stored procedure created successfully!\")\n",
    "except mysql.connector.Error as err:\n",
    "    print(f\"Error creating procedure: {err}\")"
   ]
  },
  {
   "cell_type": "code",
   "execution_count": null,
   "id": "feaf1b44-e1dc-48a4-b0f8-7adab47284be",
   "metadata": {},
   "outputs": [],
   "source": [
    "#output\n",
    "# Step 2: Call the stored procedure\n",
    "genre = input(\"Enter genre (e.g., Comedy): \")\n",
    "\n",
    "try:\n",
    "    mycursor.callproc('GetShowsByGenre', [genre])\n",
    "    \n",
    "    # Fetch the result\n",
    "    for result in mycursor.stored_results():\n",
    "        rows = result.fetchall()\n",
    "        for row in rows:\n",
    "            print(row)\n",
    "except mysql.connector.Error as err:\n",
    "    print(f\"Error calling procedure: {err}\")"
   ]
  },
  {
   "cell_type": "markdown",
   "id": "e586e433-f113-4e83-9f16-b8a63e477a77",
   "metadata": {},
   "source": [
    "**Q18.Find the top 5 highest-rated TV shows with their genre**"
   ]
  },
  {
   "cell_type": "code",
   "execution_count": null,
   "id": "2dc4fb4b-ceb5-4c5d-9ba4-c3e97bb0ebf8",
   "metadata": {},
   "outputs": [],
   "source": [
    "#query\n",
    "# SQL Query with CTE\n",
    "mycursor.execute(\"\"\"\n",
    "WITH TopShows AS ( \n",
    "    SELECT shows.name, genre_types.genre_name, show_votes.vote_average\n",
    "    FROM shows\n",
    "    JOIN genres ON shows.show_id = genres.show_id\n",
    "    JOIN genre_types ON genres.genre_type_id=genre_types.genre_type_id\n",
    "    JOIN show_votes ON shows.show_id = show_votes.show_id\n",
    "    ORDER BY show_votes.vote_average DESC\n",
    "    LIMIT 5\n",
    ")\n",
    "SELECT * FROM TopShows;\n",
    "\"\"\")"
   ]
  },
  {
   "cell_type": "code",
   "execution_count": null,
   "id": "560e94c4-087e-4887-b83d-9ccb132b8ffb",
   "metadata": {},
   "outputs": [],
   "source": [
    "#output\n",
    "# Print the results\n",
    "for i in mycursor:\n",
    "    print(i)"
   ]
  },
  {
   "cell_type": "markdown",
   "id": "125849bd-31b2-42c1-87f2-7337ad548dc6",
   "metadata": {},
   "source": [
    "**Q19.Find TV Shows with the Most Seasons**"
   ]
  },
  {
   "cell_type": "code",
   "execution_count": null,
   "id": "d32a74fd-da3d-40a1-b101-32968d335e70",
   "metadata": {},
   "outputs": [],
   "source": [
    "#query\n",
    "mycursor.execute(\"\"\"\n",
    "SELECT name, number_of_seasons \n",
    "FROM shows\n",
    "WHERE number_of_seasons > (SELECT AVG(number_of_seasons) AS seasons FROM shows);\n",
    "\"\"\")"
   ]
  },
  {
   "cell_type": "code",
   "execution_count": null,
   "id": "73657ef3-460f-4636-a5ec-9fdbe202d278",
   "metadata": {},
   "outputs": [],
   "source": [
    "#output\n",
    "for i in mycursor:\n",
    "    print(i)"
   ]
  },
  {
   "cell_type": "markdown",
   "id": "df4ecd92-c7c5-41e2-848a-55d25ecc01df",
   "metadata": {},
   "source": [
    "**Q20.Rank TV Shows by Ratings**"
   ]
  },
  {
   "cell_type": "code",
   "execution_count": null,
   "id": "23d29a21-a34d-485f-944b-090e543792af",
   "metadata": {},
   "outputs": [],
   "source": [
    "#query\n",
    "mycursor.execute(\"\"\"\n",
    "SELECT  \n",
    "shows.name,show_votes.vote_average, genre_types.genre_name,\n",
    "RANK() OVER (PARTITION BY genre_types.genre_name ORDER BY show_votes.vote_average DESC) AS rnk\n",
    "FROM shows join show_votes on shows.show_id=show_votes.show_id join genres on show_votes.show_id=genres.show_id join genre_types on genres.genre_type_id=genre_types.genre_type_id\n",
    "\"\"\")"
   ]
  },
  {
   "cell_type": "code",
   "execution_count": null,
   "id": "b53f7576-c045-4d0a-80ce-6a4f9f13f241",
   "metadata": {},
   "outputs": [],
   "source": [
    "#output\n",
    "for i in mycursor:\n",
    "    print(i)"
   ]
  },
  {
   "cell_type": "code",
   "execution_count": null,
   "id": "4aed19f2-807b-445f-be65-02ede28e82e1",
   "metadata": {},
   "outputs": [],
   "source": []
  }
 ],
 "metadata": {
  "kernelspec": {
   "display_name": "Python 3 (ipykernel)",
   "language": "python",
   "name": "python3"
  },
  "language_info": {
   "codemirror_mode": {
    "name": "ipython",
    "version": 3
   },
   "file_extension": ".py",
   "mimetype": "text/x-python",
   "name": "python",
   "nbconvert_exporter": "python",
   "pygments_lexer": "ipython3",
   "version": "3.11.7"
  }
 },
 "nbformat": 4,
 "nbformat_minor": 5
}
